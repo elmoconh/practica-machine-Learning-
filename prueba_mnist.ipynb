{
  "nbformat": 4,
  "nbformat_minor": 0,
  "metadata": {
    "colab": {
      "name": "prueba_mnist.ipynb",
      "provenance": [],
      "authorship_tag": "ABX9TyNyckfh4qRqgCOpXbL38ajE",
      "include_colab_link": true
    },
    "kernelspec": {
      "name": "python3",
      "display_name": "Python 3"
    },
    "accelerator": "GPU"
  },
  "cells": [
    {
      "cell_type": "markdown",
      "metadata": {
        "id": "view-in-github",
        "colab_type": "text"
      },
      "source": [
        "<a href=\"https://colab.research.google.com/github/elmoconh/practica-machine-Learning-/blob/master/prueba_mnist.ipynb\" target=\"_parent\"><img src=\"https://colab.research.google.com/assets/colab-badge.svg\" alt=\"Open In Colab\"/></a>"
      ]
    },
    {
      "cell_type": "code",
      "metadata": {
        "id": "x4-NyBlWxtGG",
        "colab_type": "code",
        "colab": {}
      },
      "source": [
        "import tensorflow as tf\n",
        "import keras\n",
        "import numpy as np \n",
        "tf.test.gpu_device_name()\n",
        "from tensorflow.python.client import device_lib\n",
        "device_lib.list_local_devices()\n",
        "from keras.datasets import mnist\n",
        "from keras.models import Sequential\n",
        "from keras.layers import Dense,Dropout, Flatten, Conv2D, MaxPool2D\n",
        "from keras import backend as k \n",
        "from keras.callbacks import TensorBoard\n",
        "\n",
        "batch_size = 100\n",
        "num_clases = 10 \n",
        "epochs = 1\n",
        "filas, columnas = 28,28\n",
        "\n",
        "(xt, yt),(xtest,ytest) = mnist.load_data()\n",
        "\n",
        "xt=xt.reshape(xt.shape[0],filas,columnas,1)\n",
        "xtest=xtest.reshape(xtest.shape[0],filas,columnas,1)\n",
        "\n",
        "xt= xt.astype('float32')\n",
        "xtest= xtest.astype('float32')\n",
        "\n",
        "xt = xt/255\n",
        "\n",
        "xtest = xtest/255\n",
        "\n",
        "yt = keras.utils.to_categorical(yt, num_clases)\n",
        "ytest = keras.utils.to_categorical(ytest, num_clases)\n",
        "\n",
        "modelo = Sequential()\n",
        "modelo.add(Conv2D(64, kernel_size=(3,3), activation ='relu', input_shape=(28,28,1)))\n",
        "modelo.add(Conv2D(128, kernel_size=(3,3), activation ='relu', input_shape=(28,28,1)))\n",
        "modelo.add(MaxPool2D(pool_size=(2,2)))\n",
        "modelo.add(Flatten())\n",
        "modelo.add(Dense(68))\n",
        "modelo.add(Dropout(0.25))\n",
        "modelo.add(Dense(20))\n",
        "modelo.add(Dropout(0.25))\n",
        "modelo.add(Dense(num_clases, activation='softmax'))\n",
        "\n",
        "modelo.compile(optimizer=keras.optimizers.Adam(), loss=keras.losses.categorical_crossentropy, metrics=['categorical_accuracy'])\n",
        "\n",
        "modelo.fit(xt,yt, batch_size, epochs, validation_data=(xtest, ytest),verbose=2)\n",
        "puntuacion = modelo.evaluate(xtest,ytest, verbose=1)\n",
        "print(puntuacion)\n"
      ],
      "execution_count": 0,
      "outputs": []
    },
    {
      "cell_type": "code",
      "metadata": {
        "id": "ClbWJK3Wyu0Y",
        "colab_type": "code",
        "colab": {}
      },
      "source": [
        ""
      ],
      "execution_count": 0,
      "outputs": []
    }
  ]
}