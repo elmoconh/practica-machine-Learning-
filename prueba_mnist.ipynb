{
  "nbformat": 4,
  "nbformat_minor": 0,
  "metadata": {
    "colab": {
      "name": "prueba_mnist.ipynb",
      "provenance": [],
      "authorship_tag": "ABX9TyOVdASfEONHfyqCNpeR0vq3",
      "include_colab_link": true
    },
    "kernelspec": {
      "name": "python3",
      "display_name": "Python 3"
    },
    "accelerator": "GPU"
  },
  "cells": [
    {
      "cell_type": "markdown",
      "metadata": {
        "id": "view-in-github",
        "colab_type": "text"
      },
      "source": [
        "<a href=\"https://colab.research.google.com/github/elmoconh/practica-machine-Learning-/blob/master/prueba_mnist.ipynb\" target=\"_parent\"><img src=\"https://colab.research.google.com/assets/colab-badge.svg\" alt=\"Open In Colab\"/></a>"
      ]
    },
    {
      "cell_type": "code",
      "metadata": {
        "id": "x4-NyBlWxtGG",
        "colab_type": "code",
        "colab": {
          "base_uri": "https://localhost:8080/",
          "height": 204
        },
        "outputId": "28336833-e9a6-42bf-a68a-fefdcc1b29f2"
      },
      "source": [
        "import tensorflow as tf\n",
        "import keras\n",
        "import numpy as np \n",
        "tf.test.gpu_device_name()\n",
        "from tensorflow.python.client import device_lib\n",
        "device_lib.list_local_devices()\n",
        "from keras.datasets import mnist\n",
        "from keras.models import Sequential\n",
        "from keras.layers import Dense,Dropout, Flatten, Conv2D, MaxPool2D\n",
        "from keras import backend as k \n",
        "from keras.callbacks import TensorBoard\n",
        "\n",
        "batch_size = 100\n",
        "num_clases = 10 \n",
        "epochs = 3\n",
        "filas, columnas = 28,28\n",
        "\n",
        "(xt, yt),(xtest,ytest) = mnist.load_data()\n",
        "\n",
        "xt=xt.reshape(xt.shape[0],filas,columnas,1)\n",
        "xtest=xtest.reshape(xtest.shape[0],filas,columnas,1)\n",
        "\n",
        "xt= xt.astype('float32')\n",
        "xtest= xtest.astype('float32')\n",
        "\n",
        "xt = xt/255\n",
        "\n",
        "xtest = xtest/255\n",
        "\n",
        "yt = keras.utils.to_categorical(yt, num_clases)\n",
        "ytest = keras.utils.to_categorical(ytest, num_clases)\n",
        "\n",
        "modelo = Sequential()\n",
        "modelo.add(Conv2D(64, kernel_size=(3,3), activation ='relu', input_shape=(28,28,1)))\n",
        "modelo.add(Conv2D(128, kernel_size=(3,3), activation ='relu', input_shape=(28,28,1)))\n",
        "modelo.add(MaxPool2D(pool_size=(2,2)))\n",
        "modelo.add(Flatten())\n",
        "modelo.add(Dense(68))\n",
        "modelo.add(Dropout(0.25))\n",
        "modelo.add(Dense(20))\n",
        "modelo.add(Dropout(0.25))\n",
        "modelo.add(Dense(num_clases, activation='softmax'))\n",
        "\n",
        "modelo.compile(optimizer=keras.optimizers.Adam(), loss=keras.losses.categorical_crossentropy, metrics=['categorical_accuracy'])\n",
        "\n",
        "modelo.fit(xt,yt, batch_size, epochs, validation_data=(xtest, ytest),verbose=2)\n",
        "puntuacion = modelo.evaluate(xtest,ytest, verbose=1)\n",
        "print(puntuacion)\n"
      ],
      "execution_count": 6,
      "outputs": [
        {
          "output_type": "stream",
          "text": [
            "Downloading data from https://s3.amazonaws.com/img-datasets/mnist.npz\n",
            "11493376/11490434 [==============================] - 2s 0us/step\n",
            "Train on 60000 samples, validate on 10000 samples\n",
            "Epoch 1/3\n",
            " - 16s - loss: 0.2096 - categorical_accuracy: 0.9354 - val_loss: 0.0470 - val_categorical_accuracy: 0.9855\n",
            "Epoch 2/3\n",
            " - 10s - loss: 0.0796 - categorical_accuracy: 0.9762 - val_loss: 0.0404 - val_categorical_accuracy: 0.9876\n",
            "Epoch 3/3\n",
            " - 10s - loss: 0.0588 - categorical_accuracy: 0.9816 - val_loss: 0.0343 - val_categorical_accuracy: 0.9882\n",
            "10000/10000 [==============================] - 1s 102us/step\n",
            "[0.0342953114758915, 0.9882000088691711]\n"
          ],
          "name": "stdout"
        }
      ]
    },
    {
      "cell_type": "code",
      "metadata": {
        "id": "ClbWJK3Wyu0Y",
        "colab_type": "code",
        "colab": {}
      },
      "source": [
        ""
      ],
      "execution_count": 0,
      "outputs": []
    }
  ]
}